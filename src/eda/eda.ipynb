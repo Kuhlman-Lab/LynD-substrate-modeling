{
 "cells": [
  {
   "cell_type": "code",
   "execution_count": 65,
   "id": "a455598f",
   "metadata": {},
   "outputs": [],
   "source": [
    "import pandas as pd\n",
    "\n",
    "import numpy as np\n",
    "from tqdm import tqdm \n",
    "\n",
    "import matplotlib.pyplot as plt\n"
   ]
  },
  {
   "cell_type": "code",
   "execution_count": 36,
   "id": "513e0b2b",
   "metadata": {},
   "outputs": [
    {
     "name": "stdout",
     "output_type": "stream",
     "text": [
      "Raw selection seqs: 90545\n",
      "Unique selection seqs: 90545\n",
      "Raw antiselection seqs: 94968\n",
      "Unique antiselection seqs: 94968\n",
      "Found 355 intersections, removing these from both sets\n",
      "De-duplicated dataset sizes 90190  and  94613\n"
     ]
    }
   ],
   "source": [
    "# import selection peptides\n",
    "\n",
    "sel = pd.read_csv('../../data/csv/A3_Sup_pos_LynD_R1_001.csv')\n",
    "print('Raw selection seqs:', sel.shape[0])\n",
    "sel = sel.drop_duplicates(subset=['seq'])\n",
    "print('Unique selection seqs:', sel.shape[0])\n",
    "\n",
    "anti = pd.read_csv('../../data/csv/A5_Elu_pos_LynD_R1_001.csv')\n",
    "print('Raw antiselection seqs:', anti.shape[0])\n",
    "anti = anti.drop_duplicates(subset=['seq'])\n",
    "print('Unique antiselection seqs:', anti.shape[0])\n",
    "\n",
    "# remove seqs present in both selection and anti sets - these are unreliable\n",
    "\n",
    "intersections = np.intersect1d(anti.seq.values, sel.seq.values)\n",
    "print('Found %s intersections, removing these from both sets' % str(intersections.shape[0]))\n",
    "\n",
    "sel = sel.loc[~sel.seq.isin(intersections)]\n",
    "anti = anti.loc[~anti.seq.isin(intersections)]\n",
    "print('De-duplicated dataset sizes', sel.shape[0], ' and ',  anti.shape[0])\n",
    "\n",
    "# trim out fixed regions to only include variable regions\n",
    "# indexing: \n",
    "#     22-24: variable region 1\n",
    "#     25: target cysteine (fixed)\n",
    "#     26-28: variable region 2\n",
    "\n",
    "sel['var_seq'] = sel.seq.str[22:25] + sel.seq.str[26:29]\n",
    "anti['var_seq'] = anti.seq.str[22:25] + anti.seq.str[26:29]\n"
   ]
  },
  {
   "cell_type": "code",
   "execution_count": 47,
   "id": "04e799be",
   "metadata": {},
   "outputs": [
    {
     "name": "stdout",
     "output_type": "stream",
     "text": [
      "Normalized Shannon Entropy for selection (0.9726) and antiselection (0.9705) libraries\n"
     ]
    }
   ],
   "source": [
    "\n",
    "def normalized_shannon_entropy(df):\n",
    "    \"\"\"\n",
    "    Normalized shannon entropy for a library of NGS counts\n",
    "    Formula obtained from https://pubs.acs.org/doi/10.1021/acscentsci.2c00223\n",
    "    Values are bounded [0, 1], where 0 is a duplicate library of only one seq and 1 is a fully unique set of seqs\n",
    "    \"\"\"\n",
    "    \n",
    "    counts = df['count'].values\n",
    "    c_tot = np.sum(counts)\n",
    "    f_pep = counts / c_tot\n",
    "\n",
    "    h_nom = f_pep * np.log2(f_pep)\n",
    "    h_denom = np.log2(c_tot)\n",
    "    h_term = h_nom / h_denom\n",
    "    h_dataset = -np.sum(h_term)\n",
    "    return h_dataset\n",
    "\n",
    "h_sel = normalized_shannon_entropy(sel)\n",
    "\n",
    "h_anti = normalized_shannon_entropy(anti)\n",
    "\n",
    "print('Normalized Shannon Entropy for selection (%s) and antiselection (%s) libraries' % (str(round(h_sel, 4)), \n",
    "                                                                                          str(round(h_anti, 4))))\n",
    "      \n",
    "      "
   ]
  },
  {
   "cell_type": "code",
   "execution_count": 79,
   "id": "48cc29cd",
   "metadata": {},
   "outputs": [
    {
     "name": "stderr",
     "output_type": "stream",
     "text": [
      "100%|███████████████████████████████████████████████████████████████████████████████████████████████████████████████| 6/6 [00:09<00:00,  1.54s/it]\n"
     ]
    },
    {
     "data": {
      "text/plain": [
       "<matplotlib.colorbar.Colorbar at 0x7f92ad2a6260>"
      ]
     },
     "execution_count": 79,
     "metadata": {},
     "output_type": "execute_result"
    },
    {
     "data": {
      "image/png": "[encoded data removed]",
      "text/plain": [
       "<Figure size 640x480 with 2 Axes>"
      ]
     },
     "metadata": {},
     "output_type": "display_data"
    }
   ],
   "source": [
    "# calculate y_star score (relative enrichment of certain residue/position combos)\n",
    "\n",
    "\n",
    "def y_star_score(sel, anti):\n",
    "    \"\"\"\n",
    "    y-star score for a library of NGS counts\n",
    "    Formula obtained from https://pubs.acs.org/doi/10.1021/acscentsci.2c00223\n",
    "    Serves as an expression of favorability of a specific amino acid / position based on SSM / NGS data\n",
    "    \"\"\"\n",
    "    \n",
    "    def y_star_single(sel, anti, p, aa):\n",
    "        alphabet = 'ACDEFGHIKLMNPQRSTVWY'\n",
    "        f_sel = sel.loc[sel.var_seq.str[p] == alphabet[aa]]['count'].sum() / sel['count'].sum()\n",
    "        f_anti = anti.loc[anti.var_seq.str[p] == alphabet[aa]]['count'].sum() / anti['count'].sum()\n",
    "        return f_sel / f_anti\n",
    "    \n",
    "    seqs = sel.var_seq.values\n",
    "    pos_idx = len(seqs[0])\n",
    "    aa_idx = 20\n",
    "    y_star = np.zeros((pos_idx, aa_idx))\n",
    "    \n",
    "    for p in tqdm(range(pos_idx)):\n",
    "        for aa in range(aa_idx):\n",
    "            y_star[p, aa] = y_star_single(sel, anti, p, aa)    \n",
    "    return y_star\n",
    "\n",
    "y_star = y_star_score(sel, anti)\n",
    "\n",
    "# plot as heatmap (preferred format)\n",
    "alphabet = 'ACDEFGHIKLMNPQRSTVWY'\n",
    "plt.imshow(np.log2(y_star.T), cmap='magma', vmin=-2, vmax=2)\n",
    "plt.yticks(np.arange(len(alphabet)), alphabet)\n",
    "plt.title('+LynD Y* Scores (log-scaled)')\n",
    "plt.xticks(np.arange(y_star.shape[0]))\n",
    "plt.colorbar()"
   ]
  },
  {
   "cell_type": "code",
   "execution_count": 97,
   "id": "2730dccb",
   "metadata": {},
   "outputs": [
    {
     "name": "stderr",
     "output_type": "stream",
     "text": [
      "100%|███████████████████████████████████████████████████████████████████████████████████████████████████| 90190/90190 [00:00<00:00, 105197.61it/s]\n",
      "100%|███████████████████████████████████████████████████████████████████████████████████████████████████| 94613/94613 [00:00<00:00, 101939.71it/s]\n"
     ]
    },
    {
     "data": {
      "text/plain": [
       "<matplotlib.legend.Legend at 0x7f92afa0e3b0>"
      ]
     },
     "execution_count": 97,
     "metadata": {},
     "output_type": "execute_result"
    },
    {
     "data": {
      "image/png": "[encoded data removed]",
      "text/plain": [
       "<Figure size 640x480 with 1 Axes>"
      ]
     },
     "metadata": {},
     "output_type": "display_data"
    }
   ],
   "source": [
    "# calculate S score for each peptide\n",
    "\n",
    "def s_score(df, y_star):\n",
    "    \"\"\"\n",
    "    S-score calculation for a specific peptide based on y_star scores for the library\n",
    "    Formula obtained from https://pubs.acs.org/doi/10.1021/acscentsci.2c00223\n",
    "    Serves as a (weak, naive) expression of peptide favorability, but ignores epistatic effects    \n",
    "    \"\"\"\n",
    "    alphabet = 'ACDEFGHIKLMNPQRSTVWY'\n",
    "    y_star = np.log2(y_star)\n",
    "    seqs = df.var_seq\n",
    "    s_scores = []\n",
    "    # iterate over seqs\n",
    "    for s in tqdm(seqs):\n",
    "        y_list = []\n",
    "        # iterate over positions\n",
    "        for idx, aa in enumerate(s):\n",
    "            y = y_star[idx, alphabet.index(aa)]\n",
    "            y_list.append(y)\n",
    "        s_scores.append(np.sum(y_list))\n",
    "    return s_scores\n",
    "\n",
    "s_sel = s_score(sel, y_star)\n",
    "s_anti = s_score(anti, y_star)\n",
    "\n",
    "# plot scores\n",
    "plt.hist(s_sel, bins=50, color='forestgreen', alpha=0.5)\n",
    "plt.hist(s_anti, bins=50, color='darkorange', alpha=0.5)\n",
    "plt.title('S-score Distributions')\n",
    "plt.xlabel('S-score')\n",
    "plt.ylabel('Abundance')\n",
    "plt.legend(['Selection', 'Antiselection'])"
   ]
  },
  {
   "cell_type": "code",
   "execution_count": 122,
   "id": "7339ac9c",
   "metadata": {},
   "outputs": [
    {
     "name": "stdout",
     "output_type": "stream",
     "text": [
      "(902,)\n"
     ]
    },
    {
     "name": "stderr",
     "output_type": "stream",
     "text": [
      "100%|███████████████████████████████████████████████████████████████████████████████████████████████████████████| 902/902 [00:11<00:00, 75.41it/s]\n"
     ]
    }
   ],
   "source": [
    "# ---------- Hamming Distance ------------ #\n",
    "\n",
    "from scipy.spatial.distance import hamming \n",
    "\n",
    "\n",
    "def hamming_lib(df, sub=0.1):\n",
    "    \"\"\"\n",
    "    Calculates Hamming distance of all-vs-all for a peptide library as a rough seq diversity metric\n",
    "    Note: this currently runs VERY slowly and can't handle more than a few thousand seqs\n",
    "    \"\"\"\n",
    "    \n",
    "    seqs = df.var_seq.values\n",
    "    siz = round(seqs.shape[0] * sub)\n",
    "    seqs = np.random.choice(seqs, siz)\n",
    "    print(seqs.shape)\n",
    "    ham_list = []\n",
    "    for s1 in tqdm(seqs):\n",
    "        for s2 in seqs:\n",
    "            if s1 != s2:\n",
    "                ham = hamming(list(s1), list(s2)) * len(s1)\n",
    "                ham_list.append(ham)\n",
    "    return ham_list\n",
    "\n",
    "hams = hamming_lib(sel, 0.01)\n",
    "\n"
   ]
  },
  {
   "cell_type": "code",
   "execution_count": 123,
   "id": "7c5fd108",
   "metadata": {},
   "outputs": [
    {
     "data": {
      "text/plain": [
       "(array([1., 2., 3., 4., 5., 6.]),\n",
       " array([     4,    146,   3872,  39690, 228156, 540822]))"
      ]
     },
     "execution_count": 123,
     "metadata": {},
     "output_type": "execute_result"
    }
   ],
   "source": [
    "# -------- TODO list ------ #\n",
    "\n",
    "np.unique(hams, return_counts=True)"
   ]
  },
  {
   "cell_type": "code",
   "execution_count": null,
   "id": "196dc01e",
   "metadata": {},
   "outputs": [],
   "source": []
  }
 ],
 "metadata": {
  "kernelspec": {
   "display_name": "Python 3 (ipykernel)",
   "language": "python",
   "name": "python3"
  },
  "language_info": {
   "codemirror_mode": {
    "name": "ipython",
    "version": 3
   },
   "file_extension": ".py",
   "mimetype": "text/x-python",
   "name": "python",
   "nbconvert_exporter": "python",
   "pygments_lexer": "ipython3",
   "version": "3.10.11"
  }
 },
 "nbformat": 4,
 "nbformat_minor": 5
}
