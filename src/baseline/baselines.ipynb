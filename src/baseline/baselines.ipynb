{
 "cells": [
  {
   "cell_type": "code",
   "execution_count": 1,
   "id": "661be332",
   "metadata": {},
   "outputs": [],
   "source": [
    "import pandas as pd\n",
    "import numpy as np\n",
    "\n",
    "from tqdm import tqdm\n",
    "\n",
    "import matplotlib.pyplot as plt\n"
   ]
  },
  {
   "cell_type": "code",
   "execution_count": 5,
   "id": "15f869c1",
   "metadata": {},
   "outputs": [
    {
     "name": "stdout",
     "output_type": "stream",
     "text": [
      "Curated dataset sizes:\n",
      "Selection:\t 90190 \n",
      "Antiselection:\t 94613\n",
      "Index(['ORF', 'round', 'seq', 'count', 'pct', 'var_seq'], dtype='object')\n"
     ]
    }
   ],
   "source": [
    "def import_data(sel='../../data/csv/A3_Sup_pos_LynD_R1_001.csv', \n",
    "                anti='../../data/csv/A5_Elu_pos_LynD_R1_001.csv'):\n",
    "    \"\"\"Import and curate data for modeling\"\"\"\n",
    "    sel = pd.read_csv(sel)\n",
    "    sel = sel.drop_duplicates(subset=['seq'])\n",
    "    \n",
    "    anti = pd.read_csv(anti)\n",
    "    anti = anti.drop_duplicates(subset=['seq'])\n",
    "\n",
    "    # find intersecting seqs and remove them as unreliable\n",
    "    intersect = np.intersect1d(anti.seq.values, sel.seq.values)\n",
    "    sel = sel.loc[~sel.seq.isin(intersect)].reset_index(drop=True)\n",
    "    anti = anti.loc[~anti.seq.isin(intersect)].reset_index(drop=True)\n",
    "    \n",
    "    # extract variable-region sequence for modeling\n",
    "    sel['var_seq'] = sel.seq.str[22:25] + sel.seq.str[26:29]\n",
    "    anti['var_seq'] = anti.seq.str[22:25] + anti.seq.str[26:29]\n",
    "    \n",
    "    print('Curated dataset sizes:\\nSelection:\\t', sel.shape[0], '\\nAntiselection:\\t', anti.shape[0])\n",
    "    return sel, anti\n",
    "\n",
    "sel, anti = import_data()\n",
    "print(sel.columns)"
   ]
  },
  {
   "cell_type": "code",
   "execution_count": 6,
   "id": "f748b1a7",
   "metadata": {},
   "outputs": [
    {
     "name": "stdout",
     "output_type": "stream",
     "text": [
      "(184803, 6)\n"
     ]
    }
   ],
   "source": [
    "def prep_dataset(sel, anti):\n",
    "    \"\"\"Split dataset into 5 random folds for cross-validation\"\"\"\n",
    "    sel['var_seq'] = sel.seq.str[22:25] + sel.seq.str[26:29]\n",
    "    anti['var_seq'] = anti.seq.str[22:25] + anti.seq.str[26:29]\n",
    "    return\n",
    "\n",
    "df = pd.concat([sel, anti], axis=0)\n",
    "print(df.shape)"
   ]
  },
  {
   "cell_type": "code",
   "execution_count": null,
   "id": "3f0e447b",
   "metadata": {},
   "outputs": [],
   "source": []
  }
 ],
 "metadata": {
  "kernelspec": {
   "display_name": "Python 3 (ipykernel)",
   "language": "python",
   "name": "python3"
  },
  "language_info": {
   "codemirror_mode": {
    "name": "ipython",
    "version": 3
   },
   "file_extension": ".py",
   "mimetype": "text/x-python",
   "name": "python",
   "nbconvert_exporter": "python",
   "pygments_lexer": "ipython3",
   "version": "3.10.6"
  }
 },
 "nbformat": 4,
 "nbformat_minor": 5
}
